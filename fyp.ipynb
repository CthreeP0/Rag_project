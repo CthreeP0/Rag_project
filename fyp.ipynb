{
 "cells": [
  {
   "cell_type": "code",
   "execution_count": 7,
   "metadata": {},
   "outputs": [],
   "source": [
    "from dotenv import load_dotenv\n",
    "import os\n",
    "\n",
    "load_dotenv(\".env\")\n",
    "os.environ[\"LANGCHAIN_TRACING_V2\"] = \"true\"\n",
    "os.environ[\"LANGCHAIN_PROJECT\"] = f\"FYP-Goo\"\n",
    "os.environ[\"LANGCHAIN_ENDPOINT\"] = \"https://api.smith.langchain.com\"\n",
    "os.environ[\"LANGCHAIN_API_KEY\"] = os.environ.get('LANGCHAIN_API_KEY')"
   ]
  },
  {
   "cell_type": "code",
   "execution_count": 1,
   "metadata": {},
   "outputs": [],
   "source": [
    "from langchain_community.document_loaders import PyPDFLoader\n",
    "\n",
    "loader = PyPDFLoader(\"GooYeJui.pdf\", extract_images=True)\n",
    "pages = loader.load()"
   ]
  },
  {
   "cell_type": "code",
   "execution_count": 2,
   "metadata": {},
   "outputs": [
    {
     "data": {
      "text/plain": [
       "[Document(page_content='Profile Summary\\nIndustry ExperienceRelevant Skills\\nGOO YE JUI\\nA recent graduate with a strong foundation in both front-end and back-end development, combined with a\\npassion for innovation and a commitment to making lives better through technology. Eager to contribute to\\nthe vision of Unit Nukleus GovTech by leveraging technical expertise to empower the nation and enhance\\ndigital government services. \\nFull-stack web development (HTML 5, CSS,\\nJavaScript, PHP, SQL, Python, .NET, React)\\nNatural Language Processing: spaCy, NLTK,\\nTensorFlow, PyTorch\\nGenerative AI related : LangChain, Llama\\nIndex\\nPetronas Digital Sdn Bhd - Data Science Intern Sept 2023 - Jun 2024\\nDeveloped (in 2 months) an Generative AI Based Resume Parser for Group HRM. The AI-powered parser\\nautomates the extraction and parsing of candidate information from resumes, saving HR professionals\\nvaluable time and effort in manually reviewing and categorizing resumes. Responsible for all frontend,\\nbackend and deployment-related matters, including backend architecture. Leveraged the capabilities of\\nOpenAI’s GPT models and traditional NLP libraries.\\nInvolved in the development of Applicant Tracking System that tracks each and every phases of the\\nrecruitment process. It is developed using Django as backend, HTML/CSS as frontend and PostgreSQL as\\ndatabase. yjyejui626@gmail.com +60184040438 14000, Bukit Mertajam, Penang\\nlinkedin.com/in/goo-ye-jui-8b2629159/ github.com/yejui626\\nPersonal Skills\\nTime Management\\nCollaboration\\nAdaptability\\nLeadership\\nCommunication\\nEducation\\nUniversiti Teknologi Malaysia          CGPA : 3.97 2020 - 2024\\nBachelor Of Computer Science (Data Engineering) With Honours\\nUniversiti Teknologi Malaysia          CGPA : 3.78 2019 - 2020\\nFoundation in Science \\nLanguage\\nEnglish Mandarin Malay French', metadata={'source': 'GooYeJui.pdf', 'page': 0}),\n",
       " Document(page_content='ChatGPT Sentiment Analysis with Django\\nDeveloped a web application that monitors and analyzes social media data from Reddit to understand public\\nopinion and sentiment on ChatGPT. Leveraged Python as the main programming language, along with  \\nMongoDB as the database, Django as the backend, and HTML/CSS as the frontend.May 2023 - July 2023\\nDeveloped a WordPress based e-commerce website for medubooks.com and tdiacademy21.com. Tailored the\\ndesign and user experience based on the brand’s identity and customer needs. Leveraging HTML, CSS and\\nJavaScript to deliver responsive and visually captivating elements and backend knowledge to implement\\nfunctions like search bar improvements, conditional promotions, and payment gateway integrations.July 2021 - Present WordPress FreelancePersonal Projects\\nQuotation Management SystemSept 2022 - Nov 2022\\nDeveloped a web-based quotation management system which manages the quotation process of Powerec\\nTechnology Service. The system was developed using HTML, CSS, JavaScript, PHP, and SQL to implement the\\nfrontend and backend functionalities of the system. \\nE- commerce ERP SystemMay 2023 - July 2023\\nDeveloped an E-commerce ERP system for TSK Online Shopping System by Intec Precision Engineering Sdn\\nBhd to streamlines its order management, inventory control, shipment arrangement, tracking, and overall\\nsupply chain efficiency using Laravel, MySQL, HTML and CSS. \\nRoom & Rental Management SystemMay 2023 - July 2023\\nDeveloped an Room Rental Management System for Akmal Rentals to manage their room rental business. It\\nincludes 7 modules to manage landlords, tenants, floors, rooms, transactions, inventory, and cleaner\\nattendance. The system is developed using Microsoft SQL Server as the database, Microsoft .NET MVC\\nFramework as the backend, and HTML, CSS, and JavaScript as the frontend.\\nCertifications\\nMicrosoft Certified: Azure AI Fundamentals | Jan 2023\\nGoogle Data Analytics Certificate by Coursera | August 2023\\nAlteryx Foundational Micro-Credential | Dec 2022\\nAlteryx Designer Core Certification | Dec 2022\\nAWS Academy Graduate - AWS Academy Cloud Foundations | Nov 2022\\nAWS Academy Graduate - AWS Academy Machine Learning Foundations | Dec 2022\\nAWS Academy Graduate - AWS Academy Data Analytics | Dec 2022\\nAWS Academy Graduate - AWS Academy Machine Learning for Natural Language Processing |\\nJune 2023\\nAWS Academy Graduate - AWS Academy Data Engineering | June 2023\\nAWS Academy Graduate - AWS Academy Cloud Web Application Builder | June 2023\\nAWS Academy Graduate - AWS Academy Cloud Data Pipeline Builder | June 2023', metadata={'source': 'GooYeJui.pdf', 'page': 1})]"
      ]
     },
     "execution_count": 2,
     "metadata": {},
     "output_type": "execute_result"
    }
   ],
   "source": [
    "pages"
   ]
  },
  {
   "cell_type": "code",
   "execution_count": 9,
   "metadata": {},
   "outputs": [],
   "source": [
    "from typing import List, Optional\n",
    "from langchain_core.pydantic_v1 import BaseModel, Field\n",
    "class Candidate(BaseModel):\n",
    "    \"\"\"Information about a candidate from his/her resume.\"\"\"\n",
    "\n",
    "    # ^ Doc-string for the entity Person.\n",
    "    # This doc-string is sent to the LLM as the description of the schema Person,\n",
    "    # and it can help to improve extraction results.\n",
    "\n",
    "    # Note that:\n",
    "    # 1. Each field is an `optional` -- this allows the model to decline to extract it!\n",
    "    # 2. Each field has a `description` -- this description is used by the LLM.\n",
    "    # Having a good description can help improve extraction results.\n",
    "\n",
    "    name: Optional[str] = Field(..., description=\"The name of the candidate\")\n",
    "    phone_number: Optional[str] = Field(\n",
    "        ..., description=\"The phone number of the candidate\"\n",
    "    )\n",
    "    email: Optional[str] = Field(\n",
    "        ..., description=\"The email of the candidate\"\n",
    "    )\n",
    "    local: Optional[str] = Field(\n",
    "        ..., description=\"Is the candidate Malaysian(Yes or No)?\"\n",
    "    )\n",
    "    expected_salary: Optional[str] = Field(\n",
    "        ..., description=\"Candidate's expected salary in RM if known. (If the currency is Ringgit Malaysia, assign the numerical value or range values only Eg:'3000-3100'. If in other currency, assign alongside currency)\"\n",
    "    )\n",
    "    current_location: Optional[List] = Field(\n",
    "        ..., description=\"Candidate's current location if known. If the candidate does not mention the country, assign the country based on the state and city (return it in a python list containing dictionary format like this 'Country': '', 'State': '', 'City': '' )\"\n",
    "    )\n",
    "    education_background: Optional[List] = Field(\n",
    "        ..., description=\"Every single candidate's education background. (field of study, level (always expand to long forms), cgpa, university, Start Date, Year of Graduation (Year in 4-digits only, remove month). All in a python dict format.\"\n",
    "    )\n",
    "    professional_certificate: Optional[List] = Field(\n",
    "        ..., description=\"Candidate's professional certificates if known\"\n",
    "    )\n",
    "    skill_group: Optional[List] = Field(\n",
    "        ..., description=\"Candidate's skill groups if known\"\n",
    "    )\n",
    "    technology_programs_tool: Optional[List] = Field(\n",
    "        ..., description=\"Technology (Tools, Program, System) that the candidate knows if known.\"\n",
    "    )\n",
    "    language: Optional[List] = Field(\n",
    "        ..., description=\"Languages that the candidate knows\"\n",
    "    )\n",
    "    previous_job_roles: Optional[List] = Field(\n",
    "        ..., description=\"Every single one of the candidate's (job title, job company, Industries (strictly classify according to to The International Labour Organization), start date and end date (only assign date time format if available. Do not assign duration), job location, Job Duration (Years) (if not in years, convert to years)) (If duration is stated, update the job duration instead.) in a python dict format.\"\n",
    "    )\n"
   ]
  },
  {
   "cell_type": "code",
   "execution_count": 12,
   "metadata": {},
   "outputs": [],
   "source": [
    "from langchain_openai import ChatOpenAI\n",
    "from langchain_core.prompts import ChatPromptTemplate\n",
    "from datetime import datetime\n",
    "\n",
    "# Define a custom prompt to provide instructions and any additional context.\n",
    "# 1) You can add examples into the prompt template to improve extraction quality\n",
    "# 2) Introduce additional parameters to take context into account (e.g., include metadata\n",
    "#    about the document from which the text was extracted.)\n",
    "prompt = ChatPromptTemplate.from_messages(\n",
    "    [\n",
    "        (\n",
    "            \"system\",\n",
    "            \"You are an expert extraction algorithm with 20 years experience in the recruiting industry. You will be provided with candidate's resume. \"\n",
    "            \"Extract relevant candidate's information mentioned in the following candidate's resume together with their properties. \"\n",
    "            \"If you do not know the value of an attribute asked to extract, \"\n",
    "            \"1) Please provide an accurate answers, no guessing.\"\n",
    "            \"2) Please return 'N/A' only if the information is not mentioned.\"\n",
    "            \"3) The response should strictly follow the Python dictionary format.\"\n",
    "            \"4) No need to return any reasoning as this is only for extraction of information.\"\n",
    "            \"5) Extracted Properties of all Start date and End date: \"\n",
    "            \"* if the month is not stated, assume that start/end date is in the middle of the year. \"\n",
    "            \"* should never include english words such as 'months', 'years', 'days'. \"\n",
    "            \"* Instead, dates should be dates converted to the following format: \"\n",
    "            \"* date values assigned are strictly in Python datetime format \"\n",
    "            \"\"\"Strict Format of either one: \n",
    "                YYYY\n",
    "                YYYY-MM or YYYYMM\n",
    "                YYYY-MM-DD or YYYYMMDD\n",
    "            6) Ensure that for any duration (year) calculation: \n",
    "            * Any end date that indicates \"Present\", refers to today's date, which is {current_date}. \n",
    "            * Do not assume the work experiences are continuous without breaks.\n",
    "            * Method of duration calculation: Subtract the end date from start date to get the number of months. Finally sum up all relevant durations and convert to years. \n",
    "            * Triple check your calculations. \",\"\"\"\n",
    "        ),\n",
    "        (\"human\", \"{text}\"),\n",
    "    ]\n",
    ")\n",
    "\n",
    "llm = ChatOpenAI(model=\"gpt-3.5-turbo-0125\", temperature=0.3)\n",
    "runnable = prompt | llm.with_structured_output(schema=Candidate)\n",
    "result = runnable.invoke({\"text\": pages,\"current_date\":datetime.now()})"
   ]
  },
  {
   "cell_type": "code",
   "execution_count": 22,
   "metadata": {},
   "outputs": [
    {
     "data": {
      "text/plain": [
       "Candidate(name='GOO YE JUI', phone_number='+60184040438', email='yjyejui626@gmail.com', local='N/A', expected_salary='N/A', current_location=['Country: Malaysia', 'State: Penang', 'City: Bukit Mertajam'], education_background=[{'field_of_study': 'Bachelor Of Computer Science (Data Engineering)', 'level': \"Bachelor's Degree\", 'cgpa': '3.97', 'university': 'Universiti Teknologi Malaysia', 'start_date': '2020', 'year_of_graduation': '2024'}, {'field_of_study': 'Foundation in Science', 'level': 'Foundation', 'cgpa': '3.78', 'university': 'Universiti Teknologi Malaysia', 'start_date': '2019', 'year_of_graduation': '2020'}], professional_certificate=['Microsoft Certified: Azure AI Fundamentals', 'Google Data Analytics Certificate by Coursera', 'Alteryx Foundational Micro-Credential', 'Alteryx Designer Core Certification', 'AWS Academy Graduate - AWS Academy Cloud Foundations', 'AWS Academy Graduate - AWS Academy Machine Learning Foundations', 'AWS Academy Graduate - AWS Academy Data Analytics', 'AWS Academy Graduate - AWS Academy Machine Learning for Natural Language Processing', 'AWS Academy Graduate - AWS Academy Data Engineering', 'AWS Academy Graduate - AWS Academy Cloud Web Application Builder', 'AWS Academy Graduate - AWS Academy Cloud Data Pipeline Builder'], skill_group=['Full-stack web development', 'Natural Language Processing', 'Generative AI'], technology_programs_tool=['HTML 5', 'CSS', 'JavaScript', 'PHP', 'SQL', 'Python', '.NET', 'React', 'spaCy', 'NLTK', 'TensorFlow', 'PyTorch', 'LangChain', 'Llama', 'Django', 'PostgreSQL', 'OpenAI GPT', 'Laravel', 'MySQL', 'Microsoft SQL Server', '.NET MVC'], language=['English', 'Mandarin', 'Malay', 'French'], previous_job_roles=[{'job_title': 'Data Science Intern', 'job_company': 'Petronas Digital Sdn Bhd', 'industries': 'Information Technology', 'start_date': '2023-09', 'end_date': '2024-06', 'job_location': 'N/A'}, {'job_title': 'WordPress Freelance', 'job_company': 'N/A', 'industries': 'Information Technology', 'start_date': '2021-07', 'end_date': '2024-04', 'job_location': 'N/A'}, {'job_title': 'Software Developer', 'job_company': 'N/A', 'industries': 'Information Technology', 'start_date': '2022-09', 'end_date': '2022-11', 'job_location': 'N/A'}, {'job_title': 'Software Developer', 'job_company': 'N/A', 'industries': 'Information Technology', 'start_date': '2023-05', 'end_date': '2023-07', 'job_location': 'N/A'}, {'job_title': 'Software Developer', 'job_company': 'N/A', 'industries': 'Information Technology', 'start_date': '2023-05', 'end_date': '2023-07', 'job_location': 'N/A'}])"
      ]
     },
     "execution_count": 22,
     "metadata": {},
     "output_type": "execute_result"
    }
   ],
   "source": [
    "result"
   ]
  },
  {
   "cell_type": "code",
   "execution_count": 47,
   "metadata": {},
   "outputs": [
    {
     "data": {
      "text/plain": [
       "[{'field_of_study': 'Bachelor Of Computer Science (Data Engineering)',\n",
       "  'level': \"Bachelor's Degree\",\n",
       "  'cgpa': '3.97',\n",
       "  'university': 'Universiti Teknologi Malaysia',\n",
       "  'start_date': '2020',\n",
       "  'year_of_graduation': '2024'},\n",
       " {'field_of_study': 'Foundation in Science',\n",
       "  'level': 'Foundation',\n",
       "  'cgpa': '3.78',\n",
       "  'university': 'Universiti Teknologi Malaysia',\n",
       "  'start_date': '2019',\n",
       "  'year_of_graduation': '2020'}]"
      ]
     },
     "execution_count": 47,
     "metadata": {},
     "output_type": "execute_result"
    }
   ],
   "source": [
    "result.education_background"
   ]
  },
  {
   "cell_type": "code",
   "execution_count": 46,
   "metadata": {},
   "outputs": [
    {
     "name": "stdout",
     "output_type": "stream",
     "text": [
      "{'field_of_study': 'Bachelor Of Computer Science (Data Engineering)', 'level': \"Bachelor's Degree\", 'cgpa': '3.97', 'university': 'Universiti Teknologi Malaysia', 'start_date': '2020', 'year_of_graduation': '2024'}\n",
      "{'field_of_study': 'Foundation in Science', 'level': 'Foundation', 'cgpa': '3.78', 'university': 'Universiti Teknologi Malaysia', 'start_date': '2019', 'year_of_graduation': '2020'}\n"
     ]
    }
   ],
   "source": [
    "for education in result.education_background:\n",
    "    print(str(education))"
   ]
  },
  {
   "cell_type": "code",
   "execution_count": 69,
   "metadata": {},
   "outputs": [
    {
     "name": "stdout",
     "output_type": "stream",
     "text": [
      "{'name': 'GOO YE JUI'}\n"
     ]
    },
    {
     "ename": "AttributeError",
     "evalue": "'DataFrame' object has no attribute 'append'",
     "output_type": "error",
     "traceback": [
      "\u001b[1;31m---------------------------------------------------------------------------\u001b[0m",
      "\u001b[1;31mAttributeError\u001b[0m                            Traceback (most recent call last)",
      "\u001b[1;32m~\\AppData\\Local\\Temp\\ipykernel_2064\\2568294888.py\u001b[0m in \u001b[0;36m?\u001b[1;34m()\u001b[0m\n\u001b[0;32m      8\u001b[0m     \u001b[1;31m# Create a dictionary representing the row\u001b[0m\u001b[1;33m\u001b[0m\u001b[1;33m\u001b[0m\u001b[0m\n\u001b[0;32m      9\u001b[0m     \u001b[0mrow_dict\u001b[0m \u001b[1;33m=\u001b[0m \u001b[1;33m{\u001b[0m\u001b[0mfield_name\u001b[0m\u001b[1;33m:\u001b[0m \u001b[0mstr\u001b[0m\u001b[1;33m(\u001b[0m\u001b[0mcandidate_info\u001b[0m\u001b[1;33m)\u001b[0m\u001b[1;33m}\u001b[0m\u001b[1;33m\u001b[0m\u001b[1;33m\u001b[0m\u001b[0m\n\u001b[0;32m     10\u001b[0m     \u001b[0mprint\u001b[0m\u001b[1;33m(\u001b[0m\u001b[0mrow_dict\u001b[0m\u001b[1;33m)\u001b[0m\u001b[1;33m\u001b[0m\u001b[1;33m\u001b[0m\u001b[0m\n\u001b[0;32m     11\u001b[0m     \u001b[1;31m# Append the row to the DataFrame\u001b[0m\u001b[1;33m\u001b[0m\u001b[1;33m\u001b[0m\u001b[0m\n\u001b[1;32m---> 12\u001b[1;33m     \u001b[0mdf\u001b[0m \u001b[1;33m=\u001b[0m \u001b[0mdf\u001b[0m\u001b[1;33m.\u001b[0m\u001b[0mappend\u001b[0m\u001b[1;33m(\u001b[0m\u001b[0mrow_dict\u001b[0m\u001b[1;33m,\u001b[0m \u001b[0mignore_index\u001b[0m\u001b[1;33m=\u001b[0m\u001b[1;32mTrue\u001b[0m\u001b[1;33m)\u001b[0m\u001b[1;33m\u001b[0m\u001b[1;33m\u001b[0m\u001b[0m\n\u001b[0m\u001b[0;32m     13\u001b[0m \u001b[1;33m\u001b[0m\u001b[0m\n\u001b[0;32m     14\u001b[0m \u001b[1;31m# Display the DataFrame\u001b[0m\u001b[1;33m\u001b[0m\u001b[1;33m\u001b[0m\u001b[0m\n\u001b[0;32m     15\u001b[0m \u001b[0mprint\u001b[0m\u001b[1;33m(\u001b[0m\u001b[0mdf\u001b[0m\u001b[1;33m)\u001b[0m\u001b[1;33m\u001b[0m\u001b[1;33m\u001b[0m\u001b[0m\n",
      "\u001b[1;32mc:\\Users\\user\\Desktop\\fyp_goo\\fyp\\Lib\\site-packages\\pandas\\core\\generic.py\u001b[0m in \u001b[0;36m?\u001b[1;34m(self, name)\u001b[0m\n\u001b[0;32m   6292\u001b[0m             \u001b[1;32mand\u001b[0m \u001b[0mname\u001b[0m \u001b[1;32mnot\u001b[0m \u001b[1;32min\u001b[0m \u001b[0mself\u001b[0m\u001b[1;33m.\u001b[0m\u001b[0m_accessors\u001b[0m\u001b[1;33m\u001b[0m\u001b[1;33m\u001b[0m\u001b[0m\n\u001b[0;32m   6293\u001b[0m             \u001b[1;32mand\u001b[0m \u001b[0mself\u001b[0m\u001b[1;33m.\u001b[0m\u001b[0m_info_axis\u001b[0m\u001b[1;33m.\u001b[0m\u001b[0m_can_hold_identifiers_and_holds_name\u001b[0m\u001b[1;33m(\u001b[0m\u001b[0mname\u001b[0m\u001b[1;33m)\u001b[0m\u001b[1;33m\u001b[0m\u001b[1;33m\u001b[0m\u001b[0m\n\u001b[0;32m   6294\u001b[0m         \u001b[1;33m)\u001b[0m\u001b[1;33m:\u001b[0m\u001b[1;33m\u001b[0m\u001b[1;33m\u001b[0m\u001b[0m\n\u001b[0;32m   6295\u001b[0m             \u001b[1;32mreturn\u001b[0m \u001b[0mself\u001b[0m\u001b[1;33m[\u001b[0m\u001b[0mname\u001b[0m\u001b[1;33m]\u001b[0m\u001b[1;33m\u001b[0m\u001b[1;33m\u001b[0m\u001b[0m\n\u001b[1;32m-> 6296\u001b[1;33m         \u001b[1;32mreturn\u001b[0m \u001b[0mobject\u001b[0m\u001b[1;33m.\u001b[0m\u001b[0m__getattribute__\u001b[0m\u001b[1;33m(\u001b[0m\u001b[0mself\u001b[0m\u001b[1;33m,\u001b[0m \u001b[0mname\u001b[0m\u001b[1;33m)\u001b[0m\u001b[1;33m\u001b[0m\u001b[1;33m\u001b[0m\u001b[0m\n\u001b[0m",
      "\u001b[1;31mAttributeError\u001b[0m: 'DataFrame' object has no attribute 'append'"
     ]
    }
   ],
   "source": [
    "import pandas as pd\n",
    "\n",
    "# Initialize an empty list to store row dictionaries\n",
    "rows = []\n",
    "\n",
    "# Iterate over each result and append it to the DataFrame\n",
    "for field_name, candidate_info in result.items():\n",
    "    # Create a dictionary representing the row\n",
    "    row_dict = {field_name: str(candidate_info)}\n",
    "    # Append the row dictionary to the list\n",
    "    rows.append(row_dict)\n",
    "\n",
    "# Convert the list of dictionaries to a DataFrame\n",
    "df = pd.DataFrame(rows)\n",
    "\n",
    "# Display the DataFrame\n",
    "print(df)"
   ]
  },
  {
   "cell_type": "code",
   "execution_count": 66,
   "metadata": {},
   "outputs": [
    {
     "data": {
      "text/html": [
       "<div>\n",
       "<style scoped>\n",
       "    .dataframe tbody tr th:only-of-type {\n",
       "        vertical-align: middle;\n",
       "    }\n",
       "\n",
       "    .dataframe tbody tr th {\n",
       "        vertical-align: top;\n",
       "    }\n",
       "\n",
       "    .dataframe thead th {\n",
       "        text-align: right;\n",
       "    }\n",
       "</style>\n",
       "<table border=\"1\" class=\"dataframe\">\n",
       "  <thead>\n",
       "    <tr style=\"text-align: right;\">\n",
       "      <th></th>\n",
       "      <th>name</th>\n",
       "      <th>phone_number</th>\n",
       "      <th>email</th>\n",
       "      <th>local</th>\n",
       "      <th>expected_salary</th>\n",
       "      <th>current_location</th>\n",
       "      <th>education_background</th>\n",
       "      <th>professional_certificate</th>\n",
       "      <th>skill_group</th>\n",
       "      <th>technology_programs_tool</th>\n",
       "      <th>language</th>\n",
       "      <th>previous_job_roles</th>\n",
       "    </tr>\n",
       "  </thead>\n",
       "  <tbody>\n",
       "  </tbody>\n",
       "</table>\n",
       "</div>"
      ],
      "text/plain": [
       "Empty DataFrame\n",
       "Columns: [name, phone_number, email, local, expected_salary, current_location, education_background, professional_certificate, skill_group, technology_programs_tool, language, previous_job_roles]\n",
       "Index: []"
      ]
     },
     "execution_count": 66,
     "metadata": {},
     "output_type": "execute_result"
    }
   ],
   "source": [
    "df"
   ]
  }
 ],
 "metadata": {
  "kernelspec": {
   "display_name": "Python 3",
   "language": "python",
   "name": "python3"
  },
  "language_info": {
   "codemirror_mode": {
    "name": "ipython",
    "version": 3
   },
   "file_extension": ".py",
   "mimetype": "text/x-python",
   "name": "python",
   "nbconvert_exporter": "python",
   "pygments_lexer": "ipython3",
   "version": "3.12.2"
  }
 },
 "nbformat": 4,
 "nbformat_minor": 2
}

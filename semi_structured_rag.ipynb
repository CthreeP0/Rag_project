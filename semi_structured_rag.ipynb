{
 "cells": [
  {
   "cell_type": "code",
   "execution_count": 31,
   "metadata": {},
   "outputs": [],
   "source": [
    "from dotenv import load_dotenv\n",
    "import os\n",
    "from sklearn.metrics.pairwise import cosine_similarity\n",
    "\n",
    "\n",
    "load_dotenv(\".env\")\n",
    "os.environ[\"LANGCHAIN_TRACING_V2\"] = \"true\"\n",
    "os.environ[\"LANGCHAIN_PROJECT\"] = f\"FYP-Goo\"\n",
    "os.environ[\"LANGCHAIN_ENDPOINT\"] = \"https://api.smith.langchain.com\"\n",
    "os.environ[\"LANGCHAIN_API_KEY\"] = os.environ.get('LANGCHAIN_API_KEY')"
   ]
  },
  {
   "cell_type": "markdown",
   "metadata": {},
   "source": [
    "# CSV Summaries (Structured/ Semi Structured)"
   ]
  },
  {
   "cell_type": "code",
   "execution_count": 11,
   "metadata": {},
   "outputs": [],
   "source": [
    "from langchain_community.document_loaders import UnstructuredExcelLoader\n",
    "\n",
    "loader = UnstructuredExcelLoader(\"test/CVParser_2024-05-08_141419.xlsx\", mode=\"single\")\n",
    "docs = loader.load()"
   ]
  },
  {
   "cell_type": "code",
   "execution_count": 13,
   "metadata": {},
   "outputs": [
    {
     "data": {
      "text/plain": [
       "[Document(page_content=\"\\n\\n\\nName\\nAge\\nAge Score\\nPhone_Number\\nEmail\\nLocal\\nExpected_Salary_in_RM\\nExpected Salary in RM Score\\nPrevious_Job_Roles\\nTargeted Employer\\nTargeted Employer Score\\nYears of Total Work Experience\\nYears of Total Work Experience Score\\nCandidate_Current_Location\\nCandidate Current Location Score\\nEducation_Background\\nEducation Background Score\\nYears of Graduation\\nYears of Graduation Score\\nProfessional_Certificate\\nProfessional Certificate Score\\nSkill_Groups\\nSkill Groups Score\\nTechnology_Tools_Program_System\\nTechnology (Tools, Program, System) Score\\nLanguage\\nLanguage Score\\nMatch Phrase\\nMatch Phrase Score\\nIndustries\\nAcademic Record (Latest Normalised CGPA)\\nAcademic Record (Latest Normalised CGPA) Score\\nYears of experience in exact role\\nYears of experience in exact role Score\\ngpt_recommendation\\nTotal Must-Have Criteria Score\\nTotal Good-To-Have Criteria Score\\nTotal Overall Score\\nTotal Overall Average Score\\npdf_filename\\n\\n\\nGOO YE JUI\\n\\n0\\n+60184040438\\nyjyejui626@gmail.com\\n\\n14000\\n5\\n1. Job_Title: Data Science Intern | Job_Company: Petronas Digital Sdn Bhd | Industries: ['Unknown'] | Start_Date: 2023-09 | End_Date: 2024-06 | Job_Location:  | Job_Duration: 0.75 |\\nNo exact match and no matching industry from past employers detected\\n0\\n0.75\\n0\\n[{'Country': '', 'State': '', 'City': 'Bukit Mertajam'}, {'Country': '', 'State': 'Penang', 'City': ''}]\\n0\\n1. field_of_study: Computer Science (Data Engineering) | level: Bachelor | cgpa: 3.97 | university: Universiti Teknologi Malaysia | start_date: 2020 | year_of_graduation: 2024 | \\\\n2. field_of_study: Science | level: Foundation | cgpa: 3.78 | university: Universiti Teknologi Malaysia | start_date: 2019 | year_of_graduation: 2020 |\\n10\\n2024, 2020,\\n0\\n['Microsoft Certified: Azure AI Fundamentals', 'Google Data Analytics Certificate by Coursera', 'Alteryx Foundational Micro-Credential', 'Alteryx Designer Core Certification', 'AWS Academy Graduate - AWS Academy Cloud Foundations', 'AWS Academy Graduate - AWS Academy Machine Learning Foundations', 'AWS Academy Graduate - AWS Academy Data Analytics', 'AWS Academy Graduate - AWS Academy Machine Learning for Natural Language Processing', 'AWS Academy Graduate - AWS Academy Data Engineering', 'AWS Academy Graduate - AWS Academy Cloud Web Application Builder', 'AWS Academy Graduate - AWS Academy Cloud Data Pipeline Builder']\\n0\\n['Full-stack web development (HTML 5, CSS, JavaScript, PHP, SQL, Python, .NET, React)', 'Time Management', 'Collaboration', 'Natural Language Processing: spaCy, NLTK, TensorFlow, PyTorch', 'Adaptability', 'Leadership', 'Generative AI related: LangChain, Llama Index', 'Communication']\\n1.59\\n[]\\n0\\n['English', 'Mandarin', 'Malay']\\n3\\npetronas digital\\n10\\n['Unknown']\\nNo CGPA detected. Reason: Education Background not detected\\n12\\n0.75\\n0\\nNo, the candidate does not align with the job description and job requirements. The candidate has a bachelor's degree in Computer Science (Data Engineering), but lacks the required 3 years of work experience in data science projects. They have proficiency in Python, but their expertise in EDA, Statistical Analysis, and Modeling is not mentioned. They have some experience with Generative AI, but it is not clear if they have experience with deep learning, text analytics, computer vision, optimization, and simulation. Additionally, their previous job role as a Data Science Intern may not provide enough experience for the position.\\n33.59\\n8\\n41.59\\n20.795\\nGooYeJui_Shell_CV\\n\\n\\nOliver Brooks\\n\\n0\\n(123) 456-7890\\no.brooks@email.com\\n\\n\\n0\\n1. Job_Title: Creative Data Analyst | Job_Company: Leo Burnett | Industries: ['Marketing'] | Start_Date: 2020 | End_Date: Present | Job_Location: Chicago, IL | Job_Duration: 4.35 | \\\\n2. Job_Title: Marketing Analyst | Job_Company: Allstate | Industries: ['Insurance'] | Start_Date: 2017 | End_Date: 2020 | Job_Location: Northbrook, IL | Job_Duration: 3.0 | \\\\n3. Job_Title: Data Analyst Intern | Job_Company: AbbVie | Industries: ['Pharmaceuticals', 'Biotechnology'] | Start_Date: 2016 | End_Date: 2017 | Job_Location: North Chicago, IL | Job_Duration: 1.0 |\\nNo exact match and no matching industry from past employers detected\\n0\\n8.35\\n5\\n[{'Country': '', 'State': 'Illinois', 'City': 'Chicago'}]\\n0\\n1. field_of_study: Data Science | level: Bachelor of Science | cgpa: N/A | university: Northwestern University | start_date: 2012 | year_of_graduation: 2016 |\\n18\\n2016,\\n0\\n[]\\n0\\n[]\\n0\\n[]\\n0\\n[]\\n0\\n\\n0\\n['Insurance', 'Marketing', 'Pharmaceuticals', 'Biotechnology']\\nNo CGPA detected. Reason: Education Background not detected\\n12\\n1\\n0\\nNo, the candidate does not align with the job requirements. Although the candidate has a bachelor's degree in Data Science, they only have 3 years of work experience in data science projects, which is the minimum requirement. They also have expertise in Python, data structure, and algorithms. However, there is no mention of their expertise in EDA, Statistical Analysis, and Modeling, which are required for the role. Additionally, there is no mention of their experience in deploying machine learning and deep learning models into production environments or developing MLOps pipelines. Overall, the candidate lacks the necessary expertise and experience for the Data Scientist role.\\n35\\n0\\n35\\n17.5\\ncreative-data-analyst-resume-example\\n\\n\\nDiego Perez\\n\\n0\\n(123) 456-7890\\ndiego.perez@email.com\\n\\n\\n0\\n1. Job_Title: Data Analyst Intern | Job_Company: Thomson Reuters | Industries: ['Unknown'] | Start_Date: N/A | End_Date: N/A | Job_Location: N/A | Job_Duration: N/A | \\\\n2. Job_Title: Waiter | Job_Company: Zingerman's Deli | Industries: ['Food & Beverage', 'Retail', 'Hospitality'] | Start_Date: 2021-01 | End_Date: 2024-05 | Job_Location: Ann Arbor, MI | Job_Duration: 3.33 | \\\\n3. Job_Title: Travel Data Analyst | Job_Company: TravelTrack | Industries: ['Transportation', 'Travel and Tourism'] | Start_Date: 2022-03 | End_Date: 2024-05 | Job_Location: N/A | Job_Duration: 2.17 | \\\\n4. Job_Title: Project Manager | Job_Company: Recomendify | Industries: ['Unknown'] | Start_Date: 2021-01 | End_Date: 2022-02 | Job_Location: N/A | Job_Duration: 1.08 |\\nMatching industries detected: ['retail']\\n2.5\\n6.58\\n5\\n[{'Country': '', 'State': 'MI', 'City': 'Ann Arbor'}]\\n0\\n1. field_of_study: Data Science | level: Bachelor of Science | cgpa: N/A | university: University of Michigan | start_date: 2020-08 | year_of_graduation: 2024 |\\n14\\n2024,\\n0\\n[]\\n0\\n[]\\n0\\n[]\\n0\\n[]\\n0\\n\\n0\\n['Unknown', 'Transportation', 'Hospitality', 'Travel and Tourism', 'Retail', 'Food & Beverage']\\nNo CGPA detected. Reason: Education Background not detected\\n12\\n0\\n0\\nNo, the candidate cannot join the company as a Data Scientist. The candidate has a bachelor's degree in Data Science, which aligns with the job requirements. However, the candidate only has 6.58 years of total work experience, which is less than the required 3 years. The candidate also does not have any expertise or experience in machine learning model development and deployment, which is a key requirement for the role. Additionally, the candidate does not have any experience with the preferred areas of deep learning, text analytics, computer vision, optimization, and simulation. Overall, the candidate does not meet the minimum requirements and lacks the necessary expertise for the role.\\n31\\n2.5\\n33.5\\n16.75\\ndata-analyst-intern-resume-example\\n\\n\\nHaikal Iman\\n\\n0\\n+6013-527-9656\\nhaikalmhi00@gmail.com\\n\\n\\n0\\n1. Job_Title: Customer Service Assistant | Job_Company: GIANT HYPERMARKET BANDAR KINRARA | Industries: ['Retail'] | Start_Date: 2018-02 | End_Date: 2018-05 | Job_Location: Puchong, Selangor | Job_Duration: 0.5 |\\nMatching industries detected: ['retail']\\n2.5\\n0.5\\n0\\n[{'Country': '', 'State': '', 'City': 'Bandar Kinrara'}]\\n0\\n1. field_of_study: Computer Science | level: Bachelor's Degree | cgpa: 3.87 | university: THE NATIONAL UNIVERSITY OF MALAYSIA (UKM) | start_date: 2020-10 | year_of_graduation: 2024 | \\\\n2. field_of_study: Physical Sciences | level: Foundation | cgpa: 4.00 | university: SELANGOR MATRICULATION COLLEGE (KMS) | start_date: 2018-05 | year_of_graduation: 2020 |\\n12\\n2024, 2020,\\n0\\n[]\\n0\\n[]\\n0\\n[]\\n0\\n[]\\n0\\n\\n0\\n['Retail']\\nNo CGPA detected. Reason: Education Background not detected\\n12\\n0\\n0\\nNo, the candidate does not align with the job description and job requirements. The candidate has a bachelor's degree in Computer Science, which aligns with the job requirements. However, they only have 0.5 years of work experience in a non-data science role, which does not meet the requirement of at least 3 years of work experience in data science projects. The candidate also does not have any skills or experience in Python, data structure and algorithms, EDA, statistical analysis and modeling, or machine learning model development and deployment, which are all required for the role. Additionally, there is no information provided about the candidate's expertise in deep learning, text analytics, computer vision, optimization, and simulation, which are preferable for the role. Overall, the candidate does not meet the minimum requirements and lacks the necessary skills and experience for the Data Scientist position.\\n24\\n2.5\\n26.5\\n13.25\\nGdragonResume\\n\\n\\nAng Teik Hun\\n\\n0\\n+60124773683\\nteikhun0422@hotmail.com\\nYes\\n\\n0\\n1. Job_Title: Tutor | Job_Company: Australian National University | Industries: ['Education', 'Research'] | Start_Date: 2022-06 | End_Date: 2022-12 | Job_Location:  | Job_Duration: 0.5 | \\\\n2. Job_Title: Internship as Data Scientist | Job_Company: Petroliam Nasional Berhad Group Digital | Industries: ['IT', 'Digital Technology'] | Start_Date: 2020-11 | End_Date: 2021-07 | Job_Location: KL | Job_Duration: 0.66 |\\nNo exact match and no matching industry from past employers detected\\n0\\n1.16\\n0\\n[{'Country': '', 'State': '', 'City': ''}]\\n0\\n1. field_of_study: Master of Applied Data Analytics | level: Master | cgpa: 6.42/7 | university: Australian National University | start_date: 2021-07 | year_of_graduation: 2022 |\\n14\\n2022,\\n0\\n[]\\n0\\n[]\\n0\\n[]\\n0\\n[]\\n0\\n\\n0\\n['Research', 'Digital Technology', 'IT', 'Education']\\nNo CGPA detected. Reason: Education Background not detected\\n12\\n0.66\\n0\\nNo, the candidate cannot join the company as a Data Scientist. The candidate has a Master's degree in Applied Data Analytics, which aligns with the job requirement of at least a bachelor's degree in a related field. However, the candidate only has 1.16 years of total work experience, which falls short of the required 3 years. The candidate's previous job roles include a tutor and an internship as a Data Scientist, but there is no information provided on the specific tasks and responsibilities in these roles, making it difficult to assess alignment with the job description. Additionally, there is no information provided on the candidate's proficiency in Python, data structure and algorithms, or expertise in EDA, Statistical Analysis, and Modeling, which are important skills for the role. Overall, the candidate does not meet the minimum requirements and lacks sufficient alignment with the job description and requirements.\\n26\\n0\\n26\\n13\\nAng Teik Hun Resume 30002342\\n\\n\\nSHILOH PINGLEY\\n\\n0\\n(123) 456-7890\\nShilpin@email.com\\n\\n\\n0\\n1. Job_Title: Data Analyst | Job_Company: City of Hope | Industries: ['Healthcare', 'Medical Research'] | Start_Date: 2018-05 | End_Date: Present | Job_Location: Duarte, CA | Job_Duration: 6.02 | \\\\n2. Job_Title: Data Analyst | Job_Company: Hulu | Industries: ['Entertainment', 'Streaming Media', 'Technology', 'Media'] | Start_Date: 2014-11 | End_Date: 2018-05 | Job_Location: Santa Monica, CA | Job_Duration: 3.5 | \\\\n3. Job_Title: Data Quality Analyst Intern | Job_Company: Ylopo | Industries: ['Real Estate', 'Technology'] | Start_Date: 2014-05 | End_Date: 2014-08 | Job_Location: Santa Monica, CA | Job_Duration: 0.5 |\\nNo exact match and no matching industry from past employers detected\\n0\\n10.02\\n5\\n[{'Country': '', 'State': 'California', 'City': 'Sylmar'}]\\n0\\n1. field_of_study: Computer Programming | level: Bachelor of Science | cgpa: 3.8/4.0 | university: UC Riverside | start_date: 2010 | year_of_graduation: 2014 |\\n4\\n2014,\\n0\\n[]\\n0\\n[]\\n0\\n[]\\n0\\n[]\\n0\\n\\n0\\n['Media', 'Streaming Media', 'Entertainment', 'Healthcare', 'Medical Research', 'Technology', 'Real Estate']\\nNo CGPA detected. Reason: Education Background not detected\\n12\\n0.5\\n0\\nNo, the candidate does not align with the job description and job requirements. The candidate has a bachelor's degree in Computer Programming, which is not a related field to Data Science. They also have 10.02 years of total work experience, but only 3 years of experience in data science projects. The candidate does not have any listed skills or expertise in Python, data structure and algorithms, EDA, Statistical Analysis and Modeling, or Machine Learning model development & deployment. They also do not have experience in any of the preferred areas such as deep learning, text analytics, computer vision, optimization, and simulation. Overall, the candidate lacks the necessary qualifications and experience for the Data Scientist position.\\n21\\n0\\n21\\n10.5\\ndata-analyst-finance-analytics-resume-example\\n\\n\\n\", metadata={'source': 'test/CVParser_2024-05-08_141419.xlsx'})]"
      ]
     },
     "execution_count": 13,
     "metadata": {},
     "output_type": "execute_result"
    }
   ],
   "source": [
    "docs"
   ]
  },
  {
   "cell_type": "code",
   "execution_count": 14,
   "metadata": {},
   "outputs": [
    {
     "name": "stdout",
     "output_type": "stream",
     "text": [
      "\n",
      "\n",
      "\n",
      "Name\n",
      "Age\n",
      "Age Score\n",
      "Phone_Number\n",
      "Email\n",
      "Local\n",
      "Expected_Salary_in_RM\n",
      "Expected Salary in RM Score\n",
      "Previous_Job_Roles\n",
      "Targeted Employer\n",
      "Targeted Employer Score\n",
      "Years of Total Work Experience\n",
      "Years of Total Work Experience Score\n",
      "Candidate_Current_Location\n",
      "Candidate Current Location Score\n",
      "Education_Background\n",
      "Education Background Score\n",
      "Years of Graduation\n",
      "Years of Graduation Score\n",
      "Professional_Certificate\n",
      "Professional Certificate Score\n",
      "Skill_Groups\n",
      "Skill Groups Score\n",
      "Technology_Tools_Program_System\n",
      "Technology (Tools, Program, System) Score\n",
      "Language\n",
      "Language Score\n",
      "Match Phrase\n",
      "Match Phrase Score\n",
      "Industries\n",
      "Academic Record (Latest Normalised CGPA)\n",
      "Academic Record (Latest Normalised CGPA) Score\n",
      "Years of experience in exact role\n",
      "Years of experience in exact role Score\n",
      "gpt_recommendation\n",
      "Total Must-Have Criteria Score\n",
      "Total Good-To-Have Criteria Score\n",
      "Total Overall Score\n",
      "Total Overall Average Score\n",
      "pdf_filename\n",
      "\n",
      "\n",
      "GOO YE JUI\n",
      "\n",
      "0\n",
      "+60184040438\n",
      "yjyejui626@gmail.com\n",
      "\n",
      "14000\n",
      "5\n",
      "1. Job_Title: Data Science Intern | Job_Company: Petronas Digital Sdn Bhd | Industries: ['Unknown'] | Start_Date: 2023-09 | End_Date: 2024-06 | Job_Location:  | Job_Duration: 0.75 |\n",
      "No exact match and no matching industry from past employers detected\n",
      "0\n",
      "0.75\n",
      "0\n",
      "[{'Country': '', 'State': '', 'City': 'Bukit Mertajam'}, {'Country': '', 'State': 'Penang', 'City': ''}]\n",
      "0\n",
      "1. field_of_study: Computer Science (Data Engineering) | level: Bachelor | cgpa: 3.97 | university: Universiti Teknologi Malaysia | start_date: 2020 | year_of_graduation: 2024 | \\n2. field_of_study: Science | level: Foundation | cgpa: 3.78 | university: Universiti Teknologi Malaysia | start_date: 2019 | year_of_graduation: 2020 |\n",
      "10\n",
      "2024, 2020,\n",
      "0\n",
      "['Microsoft Certified: Azure AI Fundamentals', 'Google Data Analytics Certificate by Coursera', 'Alteryx Foundational Micro-Credential', 'Alteryx Designer Core Certification', 'AWS Academy Graduate - AWS Academy Cloud Foundations', 'AWS Academy Graduate - AWS Academy Machine Learning Foundations', 'AWS Academy Graduate - AWS Academy Data Analytics', 'AWS Academy Graduate - AWS Academy Machine Learning for Natural Language Processing', 'AWS Academy Graduate - AWS Academy Data Engineering', 'AWS Academy Graduate - AWS Academy Cloud Web Application Builder', 'AWS Academy Graduate - AWS Academy Cloud Data Pipeline Builder']\n",
      "0\n",
      "['Full-stack web development (HTML 5, CSS, JavaScript, PHP, SQL, Python, .NET, React)', 'Time Management', 'Collaboration', 'Natural Language Processing: spaCy, NLTK, TensorFlow, PyTorch', 'Adaptability', 'Leadership', 'Generative AI related: LangChain, Llama Index', 'Communication']\n",
      "1.59\n",
      "[]\n",
      "0\n",
      "['English', 'Mandarin', 'Malay']\n",
      "3\n",
      "petronas digital\n",
      "10\n",
      "['Unknown']\n",
      "No CGPA detected. Reason: Education Background not detected\n",
      "12\n",
      "0.75\n",
      "0\n",
      "No, the candidate does not align with the job description and job requirements. The candidate has a bachelor's degree in Computer Science (Data Engineering), but lacks the required 3 years of work experience in data science projects. They have proficiency in Python, but their expertise in EDA, Statistical Analysis, and Modeling is not mentioned. They have some experience with Generative AI, but it is not clear if they have experience with deep learning, text analytics, computer vision, optimization, and simulation. Additionally, their previous job role as a Data Science Intern may not provide enough experience for the position.\n",
      "33.59\n",
      "8\n",
      "41.59\n",
      "20.795\n",
      "GooYeJui_Shell_CV\n",
      "\n",
      "\n",
      "Oliver Brooks\n",
      "\n",
      "0\n",
      "(123) 456-7890\n",
      "o.brooks@email.com\n",
      "\n",
      "\n",
      "0\n",
      "1. Job_Title: Creative Data Analyst | Job_Company: Leo Burnett | Industries: ['Marketing'] | Start_Date: 2020 | End_Date: Present | Job_Location: Chicago, IL | Job_Duration: 4.35 | \\n2. Job_Title: Marketing Analyst | Job_Company: Allstate | Industries: ['Insurance'] | Start_Date: 2017 | End_Date: 2020 | Job_Location: Northbrook, IL | Job_Duration: 3.0 | \\n3. Job_Title: Data Analyst Intern | Job_Company: AbbVie | Industries: ['Pharmaceuticals', 'Biotechnology'] | Start_Date: 2016 | End_Date: 2017 | Job_Location: North Chicago, IL | Job_Duration: 1.0 |\n",
      "No exact match and no matching industry from past employers detected\n",
      "0\n",
      "8.35\n",
      "5\n",
      "[{'Country': '', 'State': 'Illinois', 'City': 'Chicago'}]\n",
      "0\n",
      "1. field_of_study: Data Science | level: Bachelor of Science | cgpa: N/A | university: Northwestern University | start_date: 2012 | year_of_graduation: 2016 |\n",
      "18\n",
      "2016,\n",
      "0\n",
      "[]\n",
      "0\n",
      "[]\n",
      "0\n",
      "[]\n",
      "0\n",
      "[]\n",
      "0\n",
      "\n",
      "0\n",
      "['Insurance', 'Marketing', 'Pharmaceuticals', 'Biotechnology']\n",
      "No CGPA detected. Reason: Education Background not detected\n",
      "12\n",
      "1\n",
      "0\n",
      "No, the candidate does not align with the job requirements. Although the candidate has a bachelor's degree in Data Science, they only have 3 years of work experience in data science projects, which is the minimum requirement. They also have expertise in Python, data structure, and algorithms. However, there is no mention of their expertise in EDA, Statistical Analysis, and Modeling, which are required for the role. Additionally, there is no mention of their experience in deploying machine learning and deep learning models into production environments or developing MLOps pipelines. Overall, the candidate lacks the necessary expertise and experience for the Data Scientist role.\n",
      "35\n",
      "0\n",
      "35\n",
      "17.5\n",
      "creative-data-analyst-resume-example\n",
      "\n",
      "\n",
      "Diego Perez\n",
      "\n",
      "0\n",
      "(123) 456-7890\n",
      "diego.perez@email.com\n",
      "\n",
      "\n",
      "0\n",
      "1. Job_Title: Data Analyst Intern | Job_Company: Thomson Reuters | Industries: ['Unknown'] | Start_Date: N/A | End_Date: N/A | Job_Location: N/A | Job_Duration: N/A | \\n2. Job_Title: Waiter | Job_Company: Zingerman's Deli | Industries: ['Food & Beverage', 'Retail', 'Hospitality'] | Start_Date: 2021-01 | End_Date: 2024-05 | Job_Location: Ann Arbor, MI | Job_Duration: 3.33 | \\n3. Job_Title: Travel Data Analyst | Job_Company: TravelTrack | Industries: ['Transportation', 'Travel and Tourism'] | Start_Date: 2022-03 | End_Date: 2024-05 | Job_Location: N/A | Job_Duration: 2.17 | \\n4. Job_Title: Project Manager | Job_Company: Recomendify | Industries: ['Unknown'] | Start_Date: 2021-01 | End_Date: 2022-02 | Job_Location: N/A | Job_Duration: 1.08 |\n",
      "Matching industries detected: ['retail']\n",
      "2.5\n",
      "6.58\n",
      "5\n",
      "[{'Country': '', 'State': 'MI', 'City': 'Ann Arbor'}]\n",
      "0\n",
      "1. field_of_study: Data Science | level: Bachelor of Science | cgpa: N/A | university: University of Michigan | start_date: 2020-08 | year_of_graduation: 2024 |\n",
      "14\n",
      "2024,\n",
      "0\n",
      "[]\n",
      "0\n",
      "[]\n",
      "0\n",
      "[]\n",
      "0\n",
      "[]\n",
      "0\n",
      "\n",
      "0\n",
      "['Unknown', 'Transportation', 'Hospitality', 'Travel and Tourism', 'Retail', 'Food & Beverage']\n",
      "No CGPA detected. Reason: Education Background not detected\n",
      "12\n",
      "0\n",
      "0\n",
      "No, the candidate cannot join the company as a Data Scientist. The candidate has a bachelor's degree in Data Science, which aligns with the job requirements. However, the candidate only has 6.58 years of total work experience, which is less than the required 3 years. The candidate also does not have any expertise or experience in machine learning model development and deployment, which is a key requirement for the role. Additionally, the candidate does not have any experience with the preferred areas of deep learning, text analytics, computer vision, optimization, and simulation. Overall, the candidate does not meet the minimum requirements and lacks the necessary expertise for the role.\n",
      "31\n",
      "2.5\n",
      "33.5\n",
      "16.75\n",
      "data-analyst-intern-resume-example\n",
      "\n",
      "\n",
      "Haikal Iman\n",
      "\n",
      "0\n",
      "+6013-527-9656\n",
      "haikalmhi00@gmail.com\n",
      "\n",
      "\n",
      "0\n",
      "1. Job_Title: Customer Service Assistant | Job_Company: GIANT HYPERMARKET BANDAR KINRARA | Industries: ['Retail'] | Start_Date: 2018-02 | End_Date: 2018-05 | Job_Location: Puchong, Selangor | Job_Duration: 0.5 |\n",
      "Matching industries detected: ['retail']\n",
      "2.5\n",
      "0.5\n",
      "0\n",
      "[{'Country': '', 'State': '', 'City': 'Bandar Kinrara'}]\n",
      "0\n",
      "1. field_of_study: Computer Science | level: Bachelor's Degree | cgpa: 3.87 | university: THE NATIONAL UNIVERSITY OF MALAYSIA (UKM) | start_date: 2020-10 | year_of_graduation: 2024 | \\n2. field_of_study: Physical Sciences | level: Foundation | cgpa: 4.00 | university: SELANGOR MATRICULATION COLLEGE (KMS) | start_date: 2018-05 | year_of_graduation: 2020 |\n",
      "12\n",
      "2024, 2020,\n",
      "0\n",
      "[]\n",
      "0\n",
      "[]\n",
      "0\n",
      "[]\n",
      "0\n",
      "[]\n",
      "0\n",
      "\n",
      "0\n",
      "['Retail']\n",
      "No CGPA detected. Reason: Education Background not detected\n",
      "12\n",
      "0\n",
      "0\n",
      "No, the candidate does not align with the job description and job requirements. The candidate has a bachelor's degree in Computer Science, which aligns with the job requirements. However, they only have 0.5 years of work experience in a non-data science role, which does not meet the requirement of at least 3 years of work experience in data science projects. The candidate also does not have any skills or experience in Python, data structure and algorithms, EDA, statistical analysis and modeling, or machine learning model development and deployment, which are all required for the role. Additionally, there is no information provided about the candidate's expertise in deep learning, text analytics, computer vision, optimization, and simulation, which are preferable for the role. Overall, the candidate does not meet the minimum requirements and lacks the necessary skills and experience for the Data Scientist position.\n",
      "24\n",
      "2.5\n",
      "26.5\n",
      "13.25\n",
      "GdragonResume\n",
      "\n",
      "\n",
      "Ang Teik Hun\n",
      "\n",
      "0\n",
      "+60124773683\n",
      "teikhun0422@hotmail.com\n",
      "Yes\n",
      "\n",
      "0\n",
      "1. Job_Title: Tutor | Job_Company: Australian National University | Industries: ['Education', 'Research'] | Start_Date: 2022-06 | End_Date: 2022-12 | Job_Location:  | Job_Duration: 0.5 | \\n2. Job_Title: Internship as Data Scientist | Job_Company: Petroliam Nasional Berhad Group Digital | Industries: ['IT', 'Digital Technology'] | Start_Date: 2020-11 | End_Date: 2021-07 | Job_Location: KL | Job_Duration: 0.66 |\n",
      "No exact match and no matching industry from past employers detected\n",
      "0\n",
      "1.16\n",
      "0\n",
      "[{'Country': '', 'State': '', 'City': ''}]\n",
      "0\n",
      "1. field_of_study: Master of Applied Data Analytics | level: Master | cgpa: 6.42/7 | university: Australian National University | start_date: 2021-07 | year_of_graduation: 2022 |\n",
      "14\n",
      "2022,\n",
      "0\n",
      "[]\n",
      "0\n",
      "[]\n",
      "0\n",
      "[]\n",
      "0\n",
      "[]\n",
      "0\n",
      "\n",
      "0\n",
      "['Research', 'Digital Technology', 'IT', 'Education']\n",
      "No CGPA detected. Reason: Education Background not detected\n",
      "12\n",
      "0.66\n",
      "0\n",
      "No, the candidate cannot join the company as a Data Scientist. The candidate has a Master's degree in Applied Data Analytics, which aligns with the job requirement of at least a bachelor's degree in a related field. However, the candidate only has 1.16 years of total work experience, which falls short of the required 3 years. The candidate's previous job roles include a tutor and an internship as a Data Scientist, but there is no information provided on the specific tasks and responsibilities in these roles, making it difficult to assess alignment with the job description. Additionally, there is no information provided on the candidate's proficiency in Python, data structure and algorithms, or expertise in EDA, Statistical Analysis, and Modeling, which are important skills for the role. Overall, the candidate does not meet the minimum requirements and lacks sufficient alignment with the job description and requirements.\n",
      "26\n",
      "0\n",
      "26\n",
      "13\n",
      "Ang Teik Hun Resume 30002342\n",
      "\n",
      "\n",
      "SHILOH PINGLEY\n",
      "\n",
      "0\n",
      "(123) 456-7890\n",
      "Shilpin@email.com\n",
      "\n",
      "\n",
      "0\n",
      "1. Job_Title: Data Analyst | Job_Company: City of Hope | Industries: ['Healthcare', 'Medical Research'] | Start_Date: 2018-05 | End_Date: Present | Job_Location: Duarte, CA | Job_Duration: 6.02 | \\n2. Job_Title: Data Analyst | Job_Company: Hulu | Industries: ['Entertainment', 'Streaming Media', 'Technology', 'Media'] | Start_Date: 2014-11 | End_Date: 2018-05 | Job_Location: Santa Monica, CA | Job_Duration: 3.5 | \\n3. Job_Title: Data Quality Analyst Intern | Job_Company: Ylopo | Industries: ['Real Estate', 'Technology'] | Start_Date: 2014-05 | End_Date: 2014-08 | Job_Location: Santa Monica, CA | Job_Duration: 0.5 |\n",
      "No exact match and no matching industry from past employers detected\n",
      "0\n",
      "10.02\n",
      "5\n",
      "[{'Country': '', 'State': 'California', 'City': 'Sylmar'}]\n",
      "0\n",
      "1. field_of_study: Computer Programming | level: Bachelor of Science | cgpa: 3.8/4.0 | university: UC Riverside | start_date: 2010 | year_of_graduation: 2014 |\n",
      "4\n",
      "2014,\n",
      "0\n",
      "[]\n",
      "0\n",
      "[]\n",
      "0\n",
      "[]\n",
      "0\n",
      "[]\n",
      "0\n",
      "\n",
      "0\n",
      "['Media', 'Streaming Media', 'Entertainment', 'Healthcare', 'Medical Research', 'Technology', 'Real Estate']\n",
      "No CGPA detected. Reason: Education Background not detected\n",
      "12\n",
      "0.5\n",
      "0\n",
      "No, the candidate does not align with the job description and job requirements. The candidate has a bachelor's degree in Computer Programming, which is not a related field to Data Science. They also have 10.02 years of total work experience, but only 3 years of experience in data science projects. The candidate does not have any listed skills or expertise in Python, data structure and algorithms, EDA, Statistical Analysis and Modeling, or Machine Learning model development & deployment. They also do not have experience in any of the preferred areas such as deep learning, text analytics, computer vision, optimization, and simulation. Overall, the candidate lacks the necessary qualifications and experience for the Data Scientist position.\n",
      "21\n",
      "0\n",
      "21\n",
      "10.5\n",
      "data-analyst-finance-analytics-resume-example\n",
      "\n",
      "\n",
      "\n"
     ]
    }
   ],
   "source": [
    "print(docs[0].page_content)"
   ]
  },
  {
   "cell_type": "code",
   "execution_count": 15,
   "metadata": {},
   "outputs": [],
   "source": [
    "from langchain_core.output_parsers import StrOutputParser\n",
    "from langchain_core.prompts import ChatPromptTemplate\n",
    "from langchain_openai import ChatOpenAI\n",
    "\n",
    "# Prompt\n",
    "prompt_text = \"\"\"You are an assistant tasked with summarizing text for retrieval. \\\n",
    "These summaries will be embedded and used to retrieve the raw text. \\\n",
    "Give a concise summary of the text that is well optimized for retrieval. Text: {element} \"\"\"\n",
    "prompt = ChatPromptTemplate.from_template(prompt_text)\n",
    "\n",
    "# Text summary chain\n",
    "model = ChatOpenAI(temperature=0, model=\"gpt-3.5-turbo-0125\")\n",
    "summarize_chain = {\"element\": lambda x: x} | prompt | model | StrOutputParser()\n",
    "\n",
    "# Apply to text\n",
    "text_summaries = summarize_chain.batch(docs, {\"max_concurrency\": 5})"
   ]
  },
  {
   "cell_type": "code",
   "execution_count": 16,
   "metadata": {},
   "outputs": [
    {
     "data": {
      "text/plain": [
       "[\"The text contains information about multiple candidates, their contact details, job history, education background, skills, and alignment with job requirements for Data Scientist positions. Each candidate's qualifications are evaluated based on their work experience, education, skills, and industry alignment. The candidates are assessed for their suitability for Data Scientist roles based on specific criteria such as work experience in data science projects, proficiency in Python, expertise in EDA, Statistical Analysis, and Modeling, and experience with machine learning models.\"]"
      ]
     },
     "execution_count": 16,
     "metadata": {},
     "output_type": "execute_result"
    }
   ],
   "source": [
    "text_summaries"
   ]
  },
  {
   "cell_type": "markdown",
   "metadata": {},
   "source": [
    "# Text Summaries (Unstructured)"
   ]
  },
  {
   "cell_type": "code",
   "execution_count": 1,
   "metadata": {},
   "outputs": [],
   "source": [
    "file_path = 'test/Guideline Tesis-UTM FYPi 10 12 2023 pdf.pdf'"
   ]
  },
  {
   "cell_type": "code",
   "execution_count": 19,
   "metadata": {},
   "outputs": [
    {
     "name": "stdout",
     "output_type": "stream",
     "text": [
      "*************** EP Error ***************\n",
      "EP Error 'providers' values must be either strings or (string, dict) tuples. when using [(<EP.CPU_EP: 'CPUExecutionProvider'>, {'arena_extend_strategy': 'kSameAsRequested'})]\n",
      "Falling back to ['CPUExecutionProvider'] and retrying.\n",
      "****************************************\n",
      "*************** EP Error ***************\n",
      "EP Error 'providers' values must be either strings or (string, dict) tuples. when using [(<EP.CPU_EP: 'CPUExecutionProvider'>, {'arena_extend_strategy': 'kSameAsRequested'})]\n",
      "Falling back to ['CPUExecutionProvider'] and retrying.\n",
      "****************************************\n",
      "*************** EP Error ***************\n",
      "EP Error 'providers' values must be either strings or (string, dict) tuples. when using [(<EP.CPU_EP: 'CPUExecutionProvider'>, {'arena_extend_strategy': 'kSameAsRequested'})]\n",
      "Falling back to ['CPUExecutionProvider'] and retrying.\n",
      "****************************************\n"
     ]
    }
   ],
   "source": [
    "from langchain_community.document_loaders import PyPDFLoader\n",
    "loader = PyPDFLoader(file_path, extract_images=True)\n",
    "# loader = PyPDFLoader(file_path)\n",
    "documents_unstructured = loader.load()"
   ]
  },
  {
   "cell_type": "code",
   "execution_count": 17,
   "metadata": {},
   "outputs": [],
   "source": [
    "from langchain_core.output_parsers import StrOutputParser\n",
    "from langchain_core.prompts import ChatPromptTemplate\n",
    "from langchain_openai import ChatOpenAI\n",
    "\n",
    "# Prompt\n",
    "prompt_text = \"\"\"You are an assistant tasked with summarizing text for retrieval. \\\n",
    "These summaries will be embedded and used to retrieve the raw text. \\\n",
    "Give a concise summary of the text that is well optimized for retrieval. Text: {element} \"\"\"\n",
    "prompt = ChatPromptTemplate.from_template(prompt_text)\n",
    "\n",
    "# Text summary chain\n",
    "model = ChatOpenAI(temperature=0, model=\"gpt-3.5-turbo-0125\")\n",
    "summarize_chain = {\"element\": lambda x: x} | prompt | model | StrOutputParser()\n",
    "\n",
    "# Apply to text\n",
    "text_summaries_unstructured = summarize_chain.batch(documents, {\"max_concurrency\": 5})"
   ]
  },
  {
   "cell_type": "code",
   "execution_count": 18,
   "metadata": {},
   "outputs": [
    {
     "data": {
      "text/plain": [
       "['This text is a handbook for the Final Year Project Industry (FYPi) at the Faculty of Computing, Universiti Teknologi Malaysia in 2023. It provides an introduction to the FYPi program.',\n",
       " 'The text discusses the Projek Sarjana Muda Industry (FYPi) course for undergraduate students in the Bachelor of Science in Computer Science (Data Engineering) program. It aims to equip students with problem-solving and programming skills through academic and research activities. The course is undertaken over two semesters and includes four specific code subjects.',\n",
       " 'This text outlines the requirements and phases of Industrial Integrated Project Proposal, Development, and Report courses. It also provides information on accessing FYP i documents and the phases of the project over two semesters.',\n",
       " 'The text outlines the process for final year Bsc. Computer Science (Data Engineering) students to complete their Integrated Project Proposal and Report. It includes steps such as registration, project topic proposal, meeting with industry and university coaches, project development, and report submission. Students are briefed on project areas, must register with the correct subject codes, and are assigned industry and university coaches for supervision.',\n",
       " 'Summary: The text discusses the importance of regular supervision meetings with industry and university coaches for project execution. It also outlines the requirements for the log book, initial integrated project proposal (SCSP4112), and procedures for changing project titles. Additionally, it details the presentation requirements for SCSP4112 evaluation, including time allocation and guidelines for slides.',\n",
       " 'The text provides guidelines for project presentations, including required content and good practices. It also outlines the requirements for an Integrated Project Proposal (SCSP4233) submission, including approval from industry and university coaches.',\n",
       " 'This text discusses the guidelines and procedures for presenting the Integrated Project Proposal (SCSP4233) in the final semester. Students must pass SCSP4112 to be eligible for SCSP4233. Each student has 40 minutes for presentation, including slides, system demonstration, Q&A, and final evaluation. The presentation should cover introduction, project overview, background, literature review, methodology, required software/hardware, initial findings, execution plan, and conclusion.',\n",
       " 'SCSP4235 is a subject involving industry integrated project development, with system demonstrations and presentations required for evaluation. Students must demonstrate their project progress to industry and university coaches in weeks 10-12 of their final semester, with presentations including an introduction, project overview, literature review, methodology, conclusions, and system demonstration. The aim of the demonstration is to evaluate project/system functionalities.',\n",
       " 'This text discusses the requirements for the Integrated Project Report SCSP4234, which is a four-credit subject done in the final year. Students must submit drafts of all chapters for evaluation and submit three copies of the final report to industry and university coaches and examiners. Approval from coaches is required before submission along with specific forms.',\n",
       " 'Summary: Students must make corrections to their reports based on examiner feedback, discuss comments with coaches, and obtain endorsements before submitting the final hard-bound thesis. The FYPi Committee oversees the day-to-day operations and provides support for any questions or issues related to the Final Year Project.',\n",
       " 'The text discusses different project categories for Final Year Projects (FYPi) for students to choose from, including System Development and Data Engineering. System Development projects involve developing applications or software with programming elements, while Data Engineering projects focus on data processing and transformation. Both types of projects require agreement from university and industry coaches and involve specific elements such as database design and data manipulation. Examples of projects include web applications, smart buildings, and mobile phone applications.',\n",
       " 'The text discusses research projects in the field of Extract, Transform, Load (ETL) and data analysis. It emphasizes the importance of training students in research skills related to data engineering, system development, data analysis, and data modeling. The projects aim to groom students for careers in Research and Development (R&D) and cover topics such as analytical models, data modeling, information architecture, and algorithm design.',\n",
       " 'This text provides guidelines for report writing and format for FYPi courses. Students must submit a written report at the end of the project, following a schedule set by the coordinator. The report will be assessed by industry and university coaches and examiners, who will only award credit for good quality writing. The report structure includes preliminary pages, a list of contents, and the report content. Students should refer to the UTM Thesis Guideline for preparing their final report.',\n",
       " 'The text provides guidelines for thesis writing, including components such as acknowledgement, abstract, title page, dedication page, and list structures for content, tables, and figures. It emphasizes the importance of acknowledging contributing persons/parties and following specific formatting requirements for different thesis elements.',\n",
       " 'Summary: The text includes a list of figures with their corresponding page numbers, a list of abbreviations, a list of terms, and a list of appendices with specific titles, all listed in alphabetical order.',\n",
       " 'The text outlines the structure of project content in a report, including chapters on Introduction, Literature Review, Methodology, Initial Results, Analysis and Design, Results, Testing and Discussion, Conclusion, References, and Appendixes.',\n",
       " 'Guidelines for thesis writing include using original words, clear and concise writing, precise language, proper abbreviation usage, logical sequencing, continuity, numbering figures and tables, separating main and supportive information, adhering to page limits, and constructing a title that reflects the content and problem solution. Plagiarism is taken seriously, and proper citation in the List of References is necessary to avoid consequences.',\n",
       " 'The text provides guidelines on how to properly cite references in a thesis. It emphasizes the importance of citing all information taken from other sources, whether it be data, quotes, figures, or tables. The references should be listed alphabetically or numerically and should come from sources such as journals, articles, and books. The Harvard System is recommended for citing references within the text, using the author\\'s last name and year of publication. If there are multiple authors, their names should be included. If there are more than three authors, \"et al.\" should be used. If multiple references by the same author in the same year are cited, small letters should be used to distinguish them. All references cited should be listed alphabetically in the List of References at the end of the report.',\n",
       " 'The text provides guidelines for listing materials chronologically and formatting author names in academic writing. It includes examples of referencing styles for single/multiple authors and corporate authors/editors. It also outlines the Harvard System format for citing books, articles in books, journal articles, and conference articles.',\n",
       " 'The text provides examples of different resource formats such as theses, legislations, standards, patents, brochures, and measured drawings, along with their respective citation formats. It also includes examples for each format to illustrate how to cite them properly.',\n",
       " 'The text provides guidelines on citing different types of resources such as unpublished materials, newspaper articles, electronic formats, magazines, and CD-ROMs. It includes examples of each format with details on how to cite the author, title, publication date, and source.',\n",
       " 'The text discusses the use of internet references, recommending that they should only be used for retrieving primary sources and in minimal amounts due to their unreliability. It also mentions tools such as LaTeX + BibTeX and Microsoft Word + EndNotes for technical writing, as well as a software called StyleWriter for proofreading. Students are encouraged to refer to the UTM Thesis Manual for further information.',\n",
       " 'The text provides tips for writing a report, including planning the structure, consulting with the supervisor for feedback, and not waiting until the last minute to start writing. It also lists examples of figures and appendices that can be included in the report.',\n",
       " 'The text is about the process of completing a final year project, including tasks such as selecting a project title, preparing initial proposals, demo and evaluation, project development, and preparing an integrated project report. It also includes evaluations of progress and the need to submit titles to a committee.',\n",
       " 'The text is empty and does not contain any information.',\n",
       " 'The text on page 25 of the document \"Guideline Tesis-UTM FYPi 10 12 2023 pdf.pdf\" discusses guidelines for writing a thesis at UTM.']"
      ]
     },
     "execution_count": 18,
     "metadata": {},
     "output_type": "execute_result"
    }
   ],
   "source": [
    "text_summaries_unstructured"
   ]
  },
  {
   "cell_type": "markdown",
   "metadata": {},
   "source": [
    "# Create embeddings and store in vector store"
   ]
  },
  {
   "cell_type": "code",
   "execution_count": 29,
   "metadata": {},
   "outputs": [],
   "source": [
    "import uuid\n",
    "from base64 import b64decode\n",
    "\n",
    "from langchain.retrievers.multi_vector import MultiVectorRetriever\n",
    "from langchain.storage import InMemoryStore\n",
    "from langchain_core.documents import Document\n",
    "from langchain_openai import OpenAIEmbeddings\n",
    "from langchain_community.vectorstores import Chroma\n",
    "\n",
    "\n",
    "def create_multi_vector_retriever(\n",
    "    vectorstore, text_summaries, texts,text_summaries_unstructured,documents_unstructured\n",
    "    # table_summaries, tables, image_summaries, images\n",
    "):\n",
    "    # Initialize the storage layer\n",
    "    store = InMemoryStore()\n",
    "    id_key = \"doc_id\"\n",
    "\n",
    "    # Create the multi-vector retriever\n",
    "    retriever = MultiVectorRetriever(\n",
    "        vectorstore=vectorstore,\n",
    "        docstore=store,\n",
    "        id_key=id_key,\n",
    "    )\n",
    "\n",
    "    # Helper function to add documents to the vectorstore and docstore\n",
    "    def add_documents(retriever, doc_summaries, doc_contents):\n",
    "        doc_ids = [str(uuid.uuid4()) for _ in doc_contents]\n",
    "        summary_docs = [\n",
    "            Document(page_content=s, metadata={id_key: doc_ids[i]})\n",
    "            for i, s in enumerate(doc_summaries)\n",
    "        ]\n",
    "        retriever.vectorstore.add_documents(summary_docs)\n",
    "        retriever.docstore.mset(list(zip(doc_ids, doc_contents)))\n",
    "\n",
    "    # Add texts, tables, and images\n",
    "    # Add structured/semi-structured documents\n",
    "    if text_summaries:\n",
    "        add_documents(retriever, text_summaries, texts)\n",
    "    # Add unstructured documents\n",
    "    if text_summaries_unstructured:\n",
    "        add_documents(retriever, text_summaries_unstructured, documents_unstructured)\n",
    "    # # Check that table_summaries is not empty before adding\n",
    "    # if table_summaries:\n",
    "    #     add_documents(retriever, table_summaries, tables)\n",
    "    # # Check that image_summaries is not empty before adding\n",
    "    # if image_summaries:\n",
    "    #     add_documents(retriever, image_summaries, images)\n",
    "\n",
    "    return retriever\n",
    "\n",
    "\n",
    "chroma_directory=f\"/vector_stores\"\n",
    "# The vectorstore to use to index the summaries\n",
    "multi_vector = Chroma(\n",
    "    collection_name=\"multi_vector\", embedding_function=OpenAIEmbeddings(), persist_directory=chroma_directory, \n",
    ")\n",
    "\n",
    "# Create retriever\n",
    "retriever_multi_vector = create_multi_vector_retriever(\n",
    "    multi_vector,\n",
    "    text_summaries,\n",
    "    docs,\n",
    "    text_summaries_unstructured,\n",
    "    documents_unstructured\n",
    "    # table_summaries,\n",
    "    # tables,\n",
    "    # image_summaries,\n",
    "    # img_base64_list,\n",
    ")"
   ]
  },
  {
   "cell_type": "code",
   "execution_count": 32,
   "metadata": {},
   "outputs": [],
   "source": [
    "from operator import itemgetter\n",
    "\n",
    "from langchain_core.runnables import RunnablePassthrough\n",
    "\n",
    "# Prompt\n",
    "template = \"\"\"Answer the question based only on the following context, which can include text:\n",
    "{context}\n",
    "Question: {question}\n",
    "\"\"\"\n",
    "rag_prompt_text = ChatPromptTemplate.from_template(template)\n",
    "\n",
    "\n",
    "# Build\n",
    "def text_rag_chain(retriever_multi_vector):\n",
    "    \"\"\"RAG chain\"\"\"\n",
    "\n",
    "    # LLM\n",
    "    model = ChatOpenAI(temperature=0, model=\"gpt-3.5-turbo-0125\")\n",
    "\n",
    "    # RAG pipeline\n",
    "    chain = (\n",
    "        {\"context\": retriever_multi_vector, \"question\": RunnablePassthrough()}\n",
    "        | rag_prompt_text\n",
    "        | model\n",
    "        | StrOutputParser()\n",
    "    )\n",
    "\n",
    "    return chain"
   ]
  },
  {
   "cell_type": "code",
   "execution_count": 33,
   "metadata": {},
   "outputs": [],
   "source": [
    "chain_baseline = text_rag_chain(retriever_multi_vector)"
   ]
  },
  {
   "cell_type": "code",
   "execution_count": 34,
   "metadata": {},
   "outputs": [
    {
     "data": {
      "text/plain": [
       "'The documents are guidelines for writing a thesis or final year project, including information on project content structure, formatting resources such as theses, legislations, standards, patents, brochures, and measured drawings, as well as a timeline for project development and evaluation.'"
      ]
     },
     "execution_count": 34,
     "metadata": {},
     "output_type": "execute_result"
    }
   ],
   "source": [
    "chain_baseline.invoke(\"What are the documents about?\")"
   ]
  },
  {
   "cell_type": "code",
   "execution_count": 38,
   "metadata": {},
   "outputs": [
    {
     "data": {
      "text/plain": [
       "'The candidate named Goo Ye Jui from the Data Science position evaluation result suits the use of the thesis guideline for UTM students.'"
      ]
     },
     "execution_count": 38,
     "metadata": {},
     "output_type": "execute_result"
    }
   ],
   "source": [
    "chain_baseline.invoke(\"The document is a thesis guideline for UTM student. Which candidate from the Data Science position evaluation result suits the use of the documents? Tell me the name of the candidate.\")"
   ]
  },
  {
   "cell_type": "code",
   "execution_count": 39,
   "metadata": {},
   "outputs": [
    {
     "data": {
      "text/plain": [
       "'The candidate who suits the use of the thesis guideline for Australia National University student is Ang Teik Hun.'"
      ]
     },
     "execution_count": 39,
     "metadata": {},
     "output_type": "execute_result"
    }
   ],
   "source": [
    "chain_baseline.invoke(\"The document is a thesis guideline for Australia National University student. Which candidate from the Data Science position evaluation result suits the use of the documents? Tell me the name of the candidate.\")"
   ]
  }
 ],
 "metadata": {
  "kernelspec": {
   "display_name": "venv",
   "language": "python",
   "name": "python3"
  },
  "language_info": {
   "codemirror_mode": {
    "name": "ipython",
    "version": 3
   },
   "file_extension": ".py",
   "mimetype": "text/x-python",
   "name": "python",
   "nbconvert_exporter": "python",
   "pygments_lexer": "ipython3",
   "version": "3.11.3"
  }
 },
 "nbformat": 4,
 "nbformat_minor": 2
}

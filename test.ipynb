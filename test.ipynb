{
 "cells": [
  {
   "cell_type": "code",
   "execution_count": 1,
   "metadata": {},
   "outputs": [],
   "source": [
    "import pprint\n",
    "from typing import Any\n",
    "\n",
    "import pandas as pd\n",
    "from langchain.output_parsers import PandasDataFrameOutputParser\n",
    "from langchain.prompts import PromptTemplate\n",
    "from langchain_openai import ChatOpenAI"
   ]
  },
  {
   "cell_type": "code",
   "execution_count": 2,
   "metadata": {},
   "outputs": [],
   "source": [
    "from dotenv import load_dotenv\n",
    "import os \n",
    "load_dotenv(\".env\")\n",
    "os.environ[\"LANGCHAIN_TRACING_V2\"] = \"true\"\n",
    "os.environ[\"LANGCHAIN_PROJECT\"] = f\"FYP-Goo\"\n",
    "os.environ[\"LANGCHAIN_ENDPOINT\"] = \"https://api.smith.langchain.com\"\n",
    "os.environ[\"LANGCHAIN_API_KEY\"] = os.environ.get('LANGCHAIN_API_KEY')"
   ]
  },
  {
   "cell_type": "code",
   "execution_count": 15,
   "metadata": {},
   "outputs": [
    {
     "name": "stdout",
     "output_type": "stream",
     "text": [
      "2024\n"
     ]
    }
   ],
   "source": [
    "from datetime import datetime\n",
    "print(datetime.now().year)"
   ]
  },
  {
   "cell_type": "code",
   "execution_count": 16,
   "metadata": {},
   "outputs": [],
   "source": [
    "from langchain_core.pydantic_v1 import BaseModel, Field\n",
    "from typing import List, Optional,Dict\n",
    "from datetime import datetime\n",
    "\n",
    "# Pydantic Class for Criteria\n",
    "class Criteria(BaseModel):\n",
    "    \"\"\"Hiring criteria based on the job details/ Suggested hiring criteria if not specified.\"\"\"\n",
    "\n",
    "    education_background: Optional[str] = Field(\n",
    "        ..., description=\"Preferred education backgrounds. If not specified, suggest it based on the job title.\"\n",
    "    )\n",
    "    cgpa: Optional[str] = Field(\n",
    "        ..., description=\"Minimum threshold of cgpa for the candidate required for the job. If not specified, suggest it.\"\n",
    "    )\n",
    "    technical_skill: Optional[List] = Field(\n",
    "        ..., description=\"Technical skills that are relevant to the job details. If not specified, suggest it based on the job title.\"\n",
    "    )\n",
    "    total_experience_year: Optional[str] = Field(\n",
    "        ..., description=\"Minimum/preferred total years of working experience required for the job. If not specified, suggest it based on the applicant category.\"\n",
    "    )\n",
    "    professional_certificate: Optional[List] = Field(\n",
    "        ..., description=\"Preferred professional certifications,licenses or accreditations required for the job. If not specified, suggest it based on the job title.\"\n",
    "    )\n",
    "    total_similar_experience_year: Optional[str] = Field(\n",
    "        ..., description=\"Minimum/preferred total years of working experience that is related to the job title required for the job. If not specified, suggest it based on the applicant category.\"\n",
    "    )\n",
    "    language: Optional[List] = Field(\n",
    "        ..., description=\"Preferred language required for the job. If not specified, suggest it.\"\n",
    "    )\n",
    "    soft_skill: Optional[List] = Field(\n",
    "        ..., description=\"Preferred soft skills required for the job. If not specified, suggest the soft skills needed based on the job title for this applicant category.\"\n",
    "    )\n",
    "    year_of_graduation: Optional[str] = Field(\n",
    "        ..., description=f\"Preferred year of graduation required for the job. If not specified, {datetime.now().year}\"\n",
    "    )\n",
    "    expected_salary: Optional[str] = Field(\n",
    "        ..., description=\"Preferred salary range required for the job. If not specified, suggest the market range in Ringgit Malaysia based on the job title for the applicant category.\"\n",
    "    )\n",
    "\n",
    "\n",
    "# Pydantic Class for Criteria\n",
    "class Weightage(BaseModel):\n",
    "    \"\"\"In the scale of 1-10, weightage assigned to the criteria based on the importance of the criteria in the job details\"\"\"\n",
    "\n",
    "    education_background_weigh: Optional[str] = Field(\n",
    "        ..., description=\"Weightage assigned to the education_background criteria\"\n",
    "    )\n",
    "    cgpa_weigh: Optional[str] = Field(\n",
    "        ..., description=\"Weightage assigned to the cgpa criteria\"\n",
    "    )\n",
    "    technical_skill_weigh: Optional[str] = Field(\n",
    "        ..., description=\"Weightage assigned to the technical_skill criteria\"\n",
    "    )\n",
    "    total_experience_year_weigh: Optional[str] = Field(\n",
    "        ..., description=\"Weightage assigned to the total_experience_year criteria\"\n",
    "    )\n",
    "    professional_certificate_weigh: Optional[str] = Field(\n",
    "        ..., description=\"Weightage assigned to the professional_certificate criteria\"\n",
    "    )\n",
    "    total_similar_experience_year_weigh: Optional[str] = Field(\n",
    "        ..., description=\"Weightage assigned to the total_similar_experience_year criteria\"\n",
    "    )\n",
    "    language_weigh: Optional[str] = Field(\n",
    "        ..., description=\"Weightage assigned to the language criteria\"\n",
    "    )\n",
    "    soft_skill_weigh: Optional[str] = Field(\n",
    "        ..., description=\"Weightage assigned to the soft_skill criteria\"\n",
    "    )\n",
    "    year_of_graduation_weigh: Optional[str] = Field(\n",
    "        ..., description=\"Weightage assigned to the year_of_graduation criteria\"\n",
    "    )\n",
    "    expected_salary_weigh: Optional[str] = Field(\n",
    "        ..., description=\"Weightage assigned to the expected_salary criteria\"\n",
    "    )\n",
    "\n",
    "\n",
    "class Job(BaseModel):\n",
    "    \"\"\"Data about the job criteria and its weightage.\"\"\"\n",
    "\n",
    "    # Creates a model so that we can extract multiple entities.\n",
    "    criteria: List[Criteria]\n",
    "    # Creates a model so that we can extract multiple entities.\n",
    "    weightage: List[Weightage]\n"
   ]
  },
  {
   "cell_type": "code",
   "execution_count": 17,
   "metadata": {},
   "outputs": [],
   "source": [
    "job_title = \"Data Scientist\"\n",
    "job_description = \"\"\"Job Description\n",
    "\n",
    "We are looking for experienced Data Scientists to join our team. The ideal candidate should have a minimum of 3 years of work experience in data science projects and possess a strong background in Python, statistical analysis, EDA, Machine Learning, Deep Learning, model deployment and MLOps.\n",
    "\n",
    "\n",
    "The successful candidate will be responsible for leveraging their expertise in data science to identify the most appropriate models that address business pain points, developing end-to-end solutions for data science projects, and deploying them into production environments The ideal candidate will also possess excellent communication skills to effectively collaborate with stakeholders across the organization.\n",
    "\n",
    "\n",
    "Key Accountabilities\n",
    "\n",
    "Working with stakeholders to understand their needs and develop solutions accordingly.\n",
    "Developing predictive models using machine learning algorithms such as regression analysis, classification trees, neural networks etc.\n",
    "Analyzing large datasets to identify patterns and trends that can be used to inform decision-making processes.\n",
    "Utilizing Python programming language for data manipulation and visualization, models development and deployment.\n",
    "Deploying machine learning and deep learning models into production environments\n",
    "Developing MLOps pipelines for automated model deployment and monitoring\n",
    "Documenting all project activities including code development, data analysis results etc.\"\"\"\n",
    "\n",
    "job_requirement = \"\"\"\n",
    "At least bachelor’s degree in Data Science, Computer Science, Engineering, or related field\n",
    "At least 3 years of work experience in data science projects\n",
    "Proficiency in Python, data structure and algorithms\n",
    "Expertise in EDA, Statistical Analysis and Modeling\n",
    "Expertise in Machine Learning model development & deployment\n",
    "Expertise in at least one of these areas is preferable; deep learning, text analytic, computer vision, optimization, and simulation.\n",
    "Experience with Generative AI\\Reinforcement learning is preferable.\n",
    "Strong problem-solving skills & ability to think critically.\n",
    "\"\"\"\n",
    "\n",
    "applicant_category = \"Entry-Level\""
   ]
  },
  {
   "cell_type": "code",
   "execution_count": 20,
   "metadata": {},
   "outputs": [],
   "source": [
    "from langchain_core.prompts import ChatPromptTemplate\n",
    "\n",
    "prompt = ChatPromptTemplate.from_messages(\n",
    "    [\n",
    "        (\n",
    "            \"system\",\n",
    "            \"You are an expert recruiting algorithm with 20 years experience in the recruiting industry. You will be provided with the job details (job title, applicant category, job description, job requirement). Execute all the tasks from step 1 to step 3 by strictly following the rules.\\n\"\n",
    "            \"\\n[Tasks]\\n\"\n",
    "            \"1. Fill in relevant criteria's information based on the following job details with their properties.\\n\"\n",
    "            \"2. If the criteria are not specified, you should apply your hiring knowledge to suggest details to the criteria.\\n\"\n",
    "            \"3. Assign weightage to each of the criteria based on how important you feel they are in the job details.\\n\"\n",
    "            \"\\n[Rules]\\n\"\n",
    "            \"- Make sure every criteria has one suggested detail.\\n\"\n",
    "            \"- Do not return 'Not Specified' as detail, suggest at least one detail based on common market hiring criteria.\\n\"\n",
    "            \"- You will penalized if you return 'Not Specified' as answer\"\n",
    "        ),\n",
    "        (\"human\", \n",
    "         \"[Job Details]\\n\"\n",
    "         \"Job Title : {job_title}\\n\"\n",
    "         \"Applicant Category : {applicant_category}\\n\"\n",
    "         \"Job Description : {job_description}\\n\"\n",
    "         \"Job Requirement : {job_requirement}\"),\n",
    "    ]\n",
    ")\n",
    "\n",
    "llm = ChatOpenAI(model=\"gpt-4-turbo-preview\", temperature=0.4)\n",
    "runnable = prompt | llm.with_structured_output(schema=Job)\n",
    "result = runnable.invoke({\"job_title\":job_title,\"job_description\":job_description,\"job_requirement\":job_requirement,\"applicant_category\":applicant_category})"
   ]
  },
  {
   "cell_type": "code",
   "execution_count": 22,
   "metadata": {},
   "outputs": [
    {
     "data": {
      "text/plain": [
       "Job(criteria=[Criteria(education_background='Data Science, Computer Science, Engineering, or related field', cgpa='3.0', technical_skill=['Python', 'Data Structure and Algorithms', 'EDA', 'Statistical Analysis', 'Machine Learning', 'Model Deployment', 'Deep Learning', 'Text Analytics', 'Computer Vision', 'Optimization', 'Simulation', 'Generative AI', 'Reinforcement Learning'], total_experience_year='3 years', professional_certificate=[], total_similar_experience_year='3 years', language=['English'], soft_skill=['Problem-solving', 'Critical Thinking', 'Effective Communication'], year_of_graduation='2020', expected_salary='Market range for entry-level Data Scientist')], weightage=[Weightage(education_background_weigh='9', cgpa_weigh='6', technical_skill_weigh='10', total_experience_year_weigh='10', professional_certificate_weigh='4', total_similar_experience_year_weigh='10', language_weigh='7', soft_skill_weigh='8', year_of_graduation_weigh='5', expected_salary_weigh='3')])"
      ]
     },
     "execution_count": 22,
     "metadata": {},
     "output_type": "execute_result"
    }
   ],
   "source": [
    "result"
   ]
  },
  {
   "cell_type": "code",
   "execution_count": 2,
   "metadata": {},
   "outputs": [
    {
     "data": {
      "text/html": [
       "<div>\n",
       "<style scoped>\n",
       "    .dataframe tbody tr th:only-of-type {\n",
       "        vertical-align: middle;\n",
       "    }\n",
       "\n",
       "    .dataframe tbody tr th {\n",
       "        vertical-align: top;\n",
       "    }\n",
       "\n",
       "    .dataframe thead th {\n",
       "        text-align: right;\n",
       "    }\n",
       "</style>\n",
       "<table border=\"1\" class=\"dataframe\">\n",
       "  <thead>\n",
       "    <tr style=\"text-align: right;\">\n",
       "      <th></th>\n",
       "      <th>criteria</th>\n",
       "      <th>weightage</th>\n",
       "    </tr>\n",
       "    <tr>\n",
       "      <th>criteria</th>\n",
       "      <th></th>\n",
       "      <th></th>\n",
       "    </tr>\n",
       "  </thead>\n",
       "  <tbody>\n",
       "    <tr>\n",
       "      <th>education_background</th>\n",
       "      <td>Data Science, Computer Science, Engineering, o...</td>\n",
       "      <td>9</td>\n",
       "    </tr>\n",
       "    <tr>\n",
       "      <th>cgpa</th>\n",
       "      <td>3.0</td>\n",
       "      <td>6</td>\n",
       "    </tr>\n",
       "    <tr>\n",
       "      <th>technical_skill</th>\n",
       "      <td>[Python, Data Structure and Algorithms, EDA, S...</td>\n",
       "      <td>10</td>\n",
       "    </tr>\n",
       "    <tr>\n",
       "      <th>total_experience_year</th>\n",
       "      <td>3 years</td>\n",
       "      <td>10</td>\n",
       "    </tr>\n",
       "    <tr>\n",
       "      <th>professional_certificate</th>\n",
       "      <td>[]</td>\n",
       "      <td>4</td>\n",
       "    </tr>\n",
       "    <tr>\n",
       "      <th>total_similar_experience_year</th>\n",
       "      <td>3 years</td>\n",
       "      <td>10</td>\n",
       "    </tr>\n",
       "    <tr>\n",
       "      <th>language</th>\n",
       "      <td>[English]</td>\n",
       "      <td>7</td>\n",
       "    </tr>\n",
       "    <tr>\n",
       "      <th>soft_skill</th>\n",
       "      <td>[Problem-solving, Critical Thinking, Effective...</td>\n",
       "      <td>8</td>\n",
       "    </tr>\n",
       "    <tr>\n",
       "      <th>year_of_graduation</th>\n",
       "      <td>2020</td>\n",
       "      <td>5</td>\n",
       "    </tr>\n",
       "    <tr>\n",
       "      <th>expected_salary</th>\n",
       "      <td>Market range for entry-level Data Scientist</td>\n",
       "      <td>3</td>\n",
       "    </tr>\n",
       "  </tbody>\n",
       "</table>\n",
       "</div>"
      ],
      "text/plain": [
       "                                                                        criteria  \\\n",
       "criteria                                                                           \n",
       "education_background           Data Science, Computer Science, Engineering, o...   \n",
       "cgpa                                                                         3.0   \n",
       "technical_skill                [Python, Data Structure and Algorithms, EDA, S...   \n",
       "total_experience_year                                                    3 years   \n",
       "professional_certificate                                                      []   \n",
       "total_similar_experience_year                                            3 years   \n",
       "language                                                               [English]   \n",
       "soft_skill                     [Problem-solving, Critical Thinking, Effective...   \n",
       "year_of_graduation                                                          2020   \n",
       "expected_salary                      Market range for entry-level Data Scientist   \n",
       "\n",
       "                              weightage  \n",
       "criteria                                 \n",
       "education_background                  9  \n",
       "cgpa                                  6  \n",
       "technical_skill                      10  \n",
       "total_experience_year                10  \n",
       "professional_certificate              4  \n",
       "total_similar_experience_year        10  \n",
       "language                              7  \n",
       "soft_skill                            8  \n",
       "year_of_graduation                    5  \n",
       "expected_salary                       3  "
      ]
     },
     "execution_count": 2,
     "metadata": {},
     "output_type": "execute_result"
    }
   ],
   "source": [
    "import pandas as pd\n",
    "from models import Job,Criteria,Weightage\n",
    "\n",
    "# Given Job object\n",
    "job_object = Job(criteria=[\n",
    "    Criteria(\n",
    "        education_background='Data Science, Computer Science, Engineering, or related field',\n",
    "        cgpa='3.0',\n",
    "        technical_skill=['Python', 'Data Structure and Algorithms', 'EDA', 'Statistical Analysis', 'Machine Learning', 'Model Deployment', 'Deep Learning', 'Text Analytics', 'Computer Vision', 'Optimization', 'Simulation', 'Generative AI', 'Reinforcement Learning'],\n",
    "        total_experience_year='3 years',\n",
    "        professional_certificate=[],\n",
    "        total_similar_experience_year='3 years',\n",
    "        language=['English'],\n",
    "        soft_skill=['Problem-solving', 'Critical Thinking', 'Effective Communication'],\n",
    "        year_of_graduation='2020',\n",
    "        expected_salary='Market range for entry-level Data Scientist'\n",
    "    )\n",
    "], weightage=[\n",
    "    Weightage(\n",
    "        education_background_weigh='9',\n",
    "        cgpa_weigh='6',\n",
    "        technical_skill_weigh='10',\n",
    "        total_experience_year_weigh='10',\n",
    "        professional_certificate_weigh='4',\n",
    "        total_similar_experience_year_weigh='10',\n",
    "        language_weigh='7',\n",
    "        soft_skill_weigh='8',\n",
    "        year_of_graduation_weigh='5',\n",
    "        expected_salary_weigh='3'\n",
    "    )\n",
    "])\n",
    "\n",
    "# Extract criteria and weightage\n",
    "criteria_data = []\n",
    "weightage_data = []\n",
    "\n",
    "for field_name in job_object.criteria[0].__fields__:\n",
    "    criteria_data.append(getattr(job_object.criteria[0], field_name))\n",
    "    \n",
    "for field_name in job_object.weightage[0].__fields__:\n",
    "    weightage_data.append(getattr(job_object.weightage[0], field_name))\n",
    "\n",
    "# Create DataFrame\n",
    "df = pd.DataFrame({'criteria': criteria_data, 'weightage': weightage_data})\n",
    "\n",
    "# # Set the name of the criteria as the index\n",
    "df.index = [x for x in job_object.criteria[0].__fields__]\n",
    "df.index.name = \"criteria\"\n",
    "\n",
    "df"
   ]
  },
  {
   "cell_type": "code",
   "execution_count": 15,
   "metadata": {},
   "outputs": [
    {
     "data": {
      "text/plain": [
       "list"
      ]
     },
     "execution_count": 15,
     "metadata": {},
     "output_type": "execute_result"
    }
   ],
   "source": [
    "type(df['criteria'][2])"
   ]
  },
  {
   "cell_type": "code",
   "execution_count": 9,
   "metadata": {},
   "outputs": [
    {
     "name": "stdout",
     "output_type": "stream",
     "text": [
      "['Data Science, Computer Science, Engineering, or related field', '3.0', ['Python', 'Data Structure and Algorithms', 'EDA', 'Statistical Analysis', 'Machine Learning', 'Model Deployment', 'Deep Learning', 'Text Analytics', 'Computer Vision', 'Optimization', 'Simulation', 'Generative AI', 'Reinforcement Learning'], '3 years', [], '3 years', ['English'], ['Problem-solving', 'Critical Thinking', 'Effective Communication'], '2020', 'Market range for entry-level Data Scientist']\n"
     ]
    }
   ],
   "source": [
    "criteria_data = []\n",
    "for field_name in job_object.criteria[0].__fields__:\n",
    "    criteria_data.append(getattr(job_object.criteria[0], field_name))\n",
    "\n",
    "print(criteria_data)\n"
   ]
  },
  {
   "cell_type": "code",
   "execution_count": 10,
   "metadata": {},
   "outputs": [
    {
     "name": "stdout",
     "output_type": "stream",
     "text": [
      "['9', '6', '10', '10', '4', '10', '7', '8', '5', '3']\n"
     ]
    }
   ],
   "source": [
    "weightage_data = []\n",
    "for field_name in job_object.weightage[0].__fields__:\n",
    "    weightage_data.append(getattr(job_object.weightage[0], field_name))\n",
    "\n",
    "print(weightage_data)\n"
   ]
  },
  {
   "cell_type": "code",
   "execution_count": null,
   "metadata": {},
   "outputs": [],
   "source": []
  }
 ],
 "metadata": {
  "kernelspec": {
   "display_name": "fyp",
   "language": "python",
   "name": "python3"
  },
  "language_info": {
   "codemirror_mode": {
    "name": "ipython",
    "version": 3
   },
   "file_extension": ".py",
   "mimetype": "text/x-python",
   "name": "python",
   "nbconvert_exporter": "python",
   "pygments_lexer": "ipython3",
   "version": "3.11.8"
  }
 },
 "nbformat": 4,
 "nbformat_minor": 2
}
